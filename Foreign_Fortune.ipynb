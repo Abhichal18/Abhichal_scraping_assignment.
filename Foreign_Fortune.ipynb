{
 "cells": [
  {
   "cell_type": "code",
   "execution_count": 1,
   "id": "451328c5-d750-4a85-8d2d-913ab15515b9",
   "metadata": {},
   "outputs": [],
   "source": [
    "# importing libraries\n",
    "from bs4 import BeautifulSoup,ResultSet\n",
    "import requests\n",
    "import pandas as pd\n",
    "import numpy as np\n",
    "import re\n",
    "from validation import ProductValidator"
   ]
  },
  {
   "cell_type": "code",
   "execution_count": 2,
   "id": "912b20b9-a4e2-4138-81b0-cfe407b3838f",
   "metadata": {},
   "outputs": [],
   "source": [
    "def get_webpage(url):\n",
    "    HEADERS = ({'Accept-Language': 'en-US, en;q=0.5'})\n",
    "    #print(url)\n",
    "    webpage = requests.get(url,headers=HEADERS)\n",
    "    print(webpage)\n",
    "    return webpage\n",
    "    "
   ]
  },
  {
   "cell_type": "code",
   "execution_count": 3,
   "id": "9dce28ee-e5fd-42f9-99e9-a0a978c47512",
   "metadata": {},
   "outputs": [],
   "source": [
    "all_links=[]\n",
    "def get_pagination_links(webpage,class_name):\n",
    "    global all_links\n",
    "    soup = BeautifulSoup(webpage.content, \"html.parser\")\n",
    "    next_page_link = soup.find_all(\"a\", attrs = {'class': class_name})\n",
    "    search_string=\"Next page\"\n",
    "    temp_link = [tag for tag in next_page_link if tag.select_one('span.icon__fallback-text:-soup-contains(\"' + search_string + '\")')]\n",
    "    links = ResultSet([])\n",
    "    for l in temp_link:\n",
    "        links.append(l)\n",
    "    for link in links:\n",
    "        if link:\n",
    "            next_link = link.get('href')\n",
    "            all_links.append(URL+next_link)\n",
    "            get_pagination_links(get_webpage(URL+next_link),class_name)\n",
    "        else:\n",
    "            return"
   ]
  },
  {
   "cell_type": "code",
   "execution_count": 4,
   "id": "412a1504-64ad-4a56-afd0-d12ad8d5c2cb",
   "metadata": {},
   "outputs": [],
   "source": [
    "def get_links(webpage,class_name):\n",
    "    try:\n",
    "        soup = BeautifulSoup(webpage.content, \"html.parser\")\n",
    "        links = soup.find_all(\"a\", attrs={'class':class_name})\n",
    "        links_list = []\n",
    "        for link in links:\n",
    "            item_link = link.get('href')\n",
    "            if URL not in item_link:\n",
    "                links_list.append(URL+item_link)\n",
    "            else:\n",
    "                links_list.append(item_link)\n",
    "    except:\n",
    "        links_list=[]\n",
    "    return links_list"
   ]
  },
  {
   "cell_type": "code",
   "execution_count": 5,
   "id": "671ee821-646c-4f59-8943-ed589bc0ccfc",
   "metadata": {},
   "outputs": [
    {
     "name": "stdout",
     "output_type": "stream",
     "text": [
      "<Response [200]>\n"
     ]
    }
   ],
   "source": [
    "# getting the first page\n",
    "URL = \"https://foreignfortune.com/\"\n",
    "webpage = get_webpage(URL)"
   ]
  },
  {
   "cell_type": "code",
   "execution_count": 6,
   "id": "af997a60-44fb-44b5-8035-7ca0105a81cf",
   "metadata": {},
   "outputs": [],
   "source": [
    "# finding product category links\n",
    "category_links = get_links(webpage,\"site-nav__link site-nav__link--main\")"
   ]
  },
  {
   "cell_type": "code",
   "execution_count": 7,
   "id": "3252482f-3cfa-432a-87c1-74688760fffc",
   "metadata": {},
   "outputs": [
    {
     "data": {
      "text/plain": [
       "['https://foreignfortune.com//collections/men-unisex',\n",
       " 'https://foreignfortune.com//collections/women',\n",
       " 'https://foreignfortune.com//collections/kids',\n",
       " 'https://foreignfortune.com//collections/coats-hats',\n",
       " 'https://foreignfortune.com//collections/small-logo-embroidery-t-shirts-1',\n",
       " 'https://foreignfortune.com//collections/frontpage',\n",
       " 'https://foreignfortune.com//collections/foreign-accesories']"
      ]
     },
     "execution_count": 7,
     "metadata": {},
     "output_type": "execute_result"
    }
   ],
   "source": [
    "category_links"
   ]
  },
  {
   "cell_type": "code",
   "execution_count": 8,
   "id": "7da5e864-59b0-4b08-b2bf-0af0e8571768",
   "metadata": {},
   "outputs": [
    {
     "name": "stdout",
     "output_type": "stream",
     "text": [
      "<Response [200]>\n",
      "<Response [200]>\n",
      "<Response [200]>\n",
      "<Response [200]>\n",
      "<Response [200]>\n",
      "<Response [200]>\n",
      "<Response [200]>\n",
      "<Response [200]>\n",
      "<Response [200]>\n",
      "<Response [200]>\n",
      "<Response [200]>\n"
     ]
    }
   ],
   "source": [
    "#getting all pages links\n",
    "for category in category_links:\n",
    "    all_links.append(category)\n",
    "    get_pagination_links(get_webpage(category),\"btn btn--secondary btn--narrow\")\n",
    "    "
   ]
  },
  {
   "cell_type": "code",
   "execution_count": 9,
   "id": "45f42099-3ebc-4e6a-9f6a-e585d32d8c86",
   "metadata": {},
   "outputs": [
    {
     "data": {
      "text/plain": [
       "['https://foreignfortune.com//collections/men-unisex',\n",
       " 'https://foreignfortune.com//collections/men-unisex?page=2',\n",
       " 'https://foreignfortune.com//collections/women',\n",
       " 'https://foreignfortune.com//collections/kids',\n",
       " 'https://foreignfortune.com//collections/coats-hats',\n",
       " 'https://foreignfortune.com//collections/small-logo-embroidery-t-shirts-1',\n",
       " 'https://foreignfortune.com//collections/frontpage',\n",
       " 'https://foreignfortune.com//collections/frontpage?page=2',\n",
       " 'https://foreignfortune.com//collections/frontpage?page=3',\n",
       " 'https://foreignfortune.com//collections/foreign-accesories',\n",
       " 'https://foreignfortune.com//collections/foreign-accesories?page=2']"
      ]
     },
     "execution_count": 9,
     "metadata": {},
     "output_type": "execute_result"
    }
   ],
   "source": [
    "all_links"
   ]
  },
  {
   "cell_type": "code",
   "execution_count": 10,
   "id": "455d076c-da24-484a-93ad-0eb0488ca223",
   "metadata": {},
   "outputs": [
    {
     "name": "stdout",
     "output_type": "stream",
     "text": [
      "<Response [200]>\n",
      "<Response [200]>\n",
      "<Response [200]>\n",
      "<Response [200]>\n",
      "<Response [200]>\n",
      "<Response [200]>\n",
      "<Response [200]>\n",
      "<Response [200]>\n",
      "<Response [200]>\n",
      "<Response [200]>\n",
      "<Response [200]>\n"
     ]
    }
   ],
   "source": [
    "# finding product links\n",
    "product_links=[]\n",
    "for link in all_links:\n",
    "    temp_links=get_links(get_webpage(link),\"grid-view-item__link grid-view-item__image-container product-card__link\")\n",
    "    product_links.extend(temp_links)"
   ]
  },
  {
   "cell_type": "code",
   "execution_count": 11,
   "id": "c7a63ee4-b958-486c-804e-10d69dd9c9dc",
   "metadata": {},
   "outputs": [
    {
     "data": {
      "text/plain": [
       "57"
      ]
     },
     "execution_count": 11,
     "metadata": {},
     "output_type": "execute_result"
    }
   ],
   "source": [
    "len(product_links)"
   ]
  },
  {
   "cell_type": "code",
   "execution_count": 12,
   "id": "11f8a99a-7125-4cfb-a680-228c1ccade36",
   "metadata": {},
   "outputs": [
    {
     "data": {
      "text/plain": [
       "['https://foreignfortune.com//collections/men-unisex/products/foreign-fortune-collection-joggers-1',\n",
       " 'https://foreignfortune.com//collections/men-unisex/products/foreign-rovalf-outfit',\n",
       " 'https://foreignfortune.com//collections/men-unisex/products/forign-luxury-tracksuits',\n",
       " 'https://foreignfortune.com//collections/men-unisex/products/ff-coats-w-hats',\n",
       " 'https://foreignfortune.com//collections/men-unisex/products/foreign-language-hoodie',\n",
       " 'https://foreignfortune.com//collections/men-unisex/products/detroit-foreign-everybody-tees',\n",
       " 'https://foreignfortune.com//collections/men-unisex/products/foreign-fortune-collection-short-sets',\n",
       " 'https://foreignfortune.com//collections/men-unisex/products/long-socks-muti-color',\n",
       " 'https://foreignfortune.com//collections/men-unisex/products/foreign-pattern-logo-socks',\n",
       " 'https://foreignfortune.com//collections/men-unisex/products/foreign-fortune-socks-1',\n",
       " 'https://foreignfortune.com//collections/men-unisex/products/long-foreign-socks',\n",
       " 'https://foreignfortune.com//collections/men-unisex/products/foreign-velour-outfits',\n",
       " 'https://foreignfortune.com//collections/men-unisex/products/foreign-trench-coats',\n",
       " 'https://foreignfortune.com//collections/men-unisex/products/foreign-fortune-tees',\n",
       " 'https://foreignfortune.com//collections/men-unisex/products/it-don-t-stop-foreign-fortune-tees',\n",
       " 'https://foreignfortune.com//collections/women/products/foreign-fortune-two-piece-yoga-set',\n",
       " 'https://foreignfortune.com//collections/women/products/foreign-fortune-lipgloss',\n",
       " 'https://foreignfortune.com//collections/women/products/foreign-fortune-bodysuit',\n",
       " 'https://foreignfortune.com//collections/women/products/foreign-rovalf-bodysuit',\n",
       " 'https://foreignfortune.com//collections/women/products/foreign-fortune-swimsuits',\n",
       " 'https://foreignfortune.com//collections/kids/products/foreign-fortune-collection-joggers',\n",
       " 'https://foreignfortune.com//collections/kids/products/kids-tracksuit',\n",
       " 'https://foreignfortune.com//collections/coats-hats/products/ff-coats-w-hats',\n",
       " 'https://foreignfortune.com//collections/coats-hats/products/ff-hats',\n",
       " 'https://foreignfortune.com//collections/coats-hats/products/foreign-fortune-bucket-hats',\n",
       " 'https://foreignfortune.com//collections/coats-hats/products/foreign-hats',\n",
       " 'https://foreignfortune.com//collections/coats-hats/products/foreign-fortune-ski-mask',\n",
       " 'https://foreignfortune.com//collections/small-logo-embroidery-t-shirts-1/products/foreign-fortune-collection-joggers',\n",
       " 'https://foreignfortune.com//collections/small-logo-embroidery-t-shirts-1/products/foreign-fortune-collection-joggers-1',\n",
       " 'https://foreignfortune.com//collections/frontpage/products/foreign-palm-trees-hoodie',\n",
       " 'https://foreignfortune.com//collections/frontpage/products/rovalf-palm-tree-hoodies',\n",
       " 'https://foreignfortune.com//collections/frontpage/products/foreign-rovalf-outfits-1',\n",
       " 'https://foreignfortune.com//collections/frontpage/products/never-give-up',\n",
       " 'https://foreignfortune.com//collections/frontpage/products/foreign-rovalf-short-sets-1',\n",
       " 'https://foreignfortune.com//collections/frontpage/products/foreign-rovalf-yacht-fit',\n",
       " 'https://foreignfortune.com//collections/frontpage/products/foreign-rovalf-chanel-gucci-outfit',\n",
       " 'https://foreignfortune.com//collections/frontpage/products/foreign-yak-outfit',\n",
       " 'https://foreignfortune.com//collections/frontpage/products/rovalf-self-esteem-hoodie',\n",
       " 'https://foreignfortune.com//collections/frontpage/products/foreign-rovalf-overcome-hoodie',\n",
       " 'https://foreignfortune.com//collections/frontpage/products/foreign-yeezy-hoodie',\n",
       " 'https://foreignfortune.com//collections/frontpage/products/the-race-hoodie',\n",
       " 'https://foreignfortune.com//collections/frontpage/products/slum-babies-hoodie',\n",
       " 'https://foreignfortune.com//collections/frontpage/products/trap-art-tshirt',\n",
       " 'https://foreignfortune.com//collections/frontpage/products/high-end-tshirt',\n",
       " 'https://foreignfortune.com//collections/frontpage/products/foreign-rovalf-trackpants',\n",
       " 'https://foreignfortune.com//collections/frontpage/products/foreign-chains-tshirt',\n",
       " 'https://foreignfortune.com//collections/frontpage/products/foreign-rovalf-bodysuit',\n",
       " 'https://foreignfortune.com//collections/foreign-accesories/products/3-piece-bag-set',\n",
       " 'https://foreignfortune.com//collections/foreign-accesories/products/lighter-holder-w-string',\n",
       " 'https://foreignfortune.com//collections/foreign-accesories/products/cell-phone-popper-s',\n",
       " 'https://foreignfortune.com//collections/foreign-accesories/products/foreign-fortune-character-lighters',\n",
       " 'https://foreignfortune.com//collections/foreign-accesories/products/foreign-keychain',\n",
       " 'https://foreignfortune.com//collections/foreign-accesories/products/foreign-fortune-pins',\n",
       " 'https://foreignfortune.com//collections/foreign-accesories/products/foreign-fortune-shades',\n",
       " 'https://foreignfortune.com//collections/foreign-accesories/products/foreign-pattern-logo-socks',\n",
       " 'https://foreignfortune.com//collections/foreign-accesories/products/foreign-fortune-socks-1',\n",
       " 'https://foreignfortune.com//collections/foreign-accesories/products/foreign-fortune-bucket-hats']"
      ]
     },
     "execution_count": 12,
     "metadata": {},
     "output_type": "execute_result"
    }
   ],
   "source": [
    "product_links"
   ]
  },
  {
   "cell_type": "code",
   "execution_count": 13,
   "id": "a5692046-a3c7-4ad9-bc5d-2f5163943d39",
   "metadata": {},
   "outputs": [],
   "source": [
    "def get_title(soup):\n",
    "    try:\n",
    "        title = soup.find('h1',attrs={'class': \"product-single__title\"}).get_text()\n",
    "    except:\n",
    "        title = \"\"\n",
    "    return title"
   ]
  },
  {
   "cell_type": "code",
   "execution_count": 14,
   "id": "b078d7c8-4f11-44bd-8ab1-92f3e3a72e26",
   "metadata": {},
   "outputs": [],
   "source": [
    "def get_price(soup):\n",
    "    try:\n",
    "        price =soup.find('span',attrs={'id': \"ProductPrice-product-template\"}).get_text().strip()\n",
    "    except:\n",
    "        price = \"\"\n",
    "    return price"
   ]
  },
  {
   "cell_type": "code",
   "execution_count": 15,
   "id": "0cd025b3-87f4-4441-bfa5-a2aaa5e3b98d",
   "metadata": {},
   "outputs": [],
   "source": [
    "def get_dropdown_lists(soup):\n",
    "    try:\n",
    "        element = soup.find_all('div', attrs={'class':\"selector-wrapper js product-form__item\"})\n",
    "        size,color,style=[],[],[]\n",
    "        for ele in element:\n",
    "            val = ele.find('label').get_text().strip()\n",
    "            if val==\"Size\":\n",
    "                if ele:\n",
    "                    options = ele.find_all(\"option\")\n",
    "                    size = [option.text.strip() for option in options if option.text.strip()]\n",
    "                else:\n",
    "                    size=[]\n",
    "            elif val==\"Color\":\n",
    "                if ele:\n",
    "                    options = ele.find_all(\"option\")\n",
    "                    color = [option.text.strip() for option in options if option.text.strip()]\n",
    "                else:\n",
    "                    color=[]\n",
    "            else:\n",
    "                if ele:\n",
    "                    options = ele.find_all(\"option\")\n",
    "                    style = [option.text.strip() for option in options if option.text.strip()]\n",
    "                else:\n",
    "                    style=[]\n",
    "    except:\n",
    "        size,color,style=[],[],[]\n",
    "    return size,color,style"
   ]
  },
  {
   "cell_type": "code",
   "execution_count": null,
   "id": "249d59ec-1bcf-4924-b619-e32627fb131a",
   "metadata": {},
   "outputs": [],
   "source": []
  },
  {
   "cell_type": "code",
   "execution_count": 16,
   "id": "35363155-b375-4fb6-b5bd-ba2b40719a2f",
   "metadata": {},
   "outputs": [],
   "source": [
    "def get_image(soup):\n",
    "    try:\n",
    "        image = soup.find('img', attrs={'class':\"feature-row__image product-featured-img lazyload\"}).get('src')\n",
    "        image_url = 'https:'+image\n",
    "    except:\n",
    "        image_url=\"\"\n",
    "    return image_url"
   ]
  },
  {
   "cell_type": "code",
   "execution_count": 17,
   "id": "f532262b-b18c-4c2c-83cb-70cb355a1428",
   "metadata": {},
   "outputs": [],
   "source": [
    "def get_variants_images(soup):\n",
    "    try:\n",
    "        image = soup.find_all('img', attrs={'class':\"product-single__thumbnail-image\"})\n",
    "        images=[]\n",
    "        for img in image:\n",
    "            images.append('https:'+img.get('src'))\n",
    "    except:\n",
    "        images=[]\n",
    "    return images"
   ]
  },
  {
   "cell_type": "code",
   "execution_count": 18,
   "id": "226d5c15-aec8-4918-8060-b98f7f83479a",
   "metadata": {},
   "outputs": [],
   "source": [
    "def get_description(soup):\n",
    "    try:\n",
    "        description=soup.find('div', attrs={'class': \"product-single__description rte\"}).text.strip()\n",
    "    except:\n",
    "        description=\"\"\n",
    "    return description"
   ]
  },
  {
   "cell_type": "code",
   "execution_count": 19,
   "id": "783c79b5-358f-4223-87f7-c4593692f608",
   "metadata": {},
   "outputs": [],
   "source": [
    "def get_category(soup):\n",
    "    try:\n",
    "        cat = soup.find('a', attrs={'class':\"btn btn--secondary btn--has-icon-before return-link\"})\n",
    "        text=cat.get_text().strip()\n",
    "        category=text.replace(\"Back to \",\"\")\n",
    "        \n",
    "    except:\n",
    "        category=\"\"\n",
    "    return category"
   ]
  },
  {
   "cell_type": "code",
   "execution_count": 20,
   "id": "0fb6614b-4731-4bf7-9493-86e45483007f",
   "metadata": {},
   "outputs": [],
   "source": [
    "# creating dictionary to store the details\n",
    "d = {\"product_id\":[],\"title\":[],\"description\":[],\"category\":[],\"url\":[],\n",
    "     \"price\":[],\"image\":[], \"sizes\":[], \"colors\":[],\"styles\":[],\"variants_images\":[]}"
   ]
  },
  {
   "cell_type": "code",
   "execution_count": 21,
   "id": "00c0e7b7-dee7-4836-8c2b-0a1dd65ee2dc",
   "metadata": {},
   "outputs": [
    {
     "name": "stdout",
     "output_type": "stream",
     "text": [
      "<Response [200]>\n",
      "<Response [200]>\n",
      "<Response [200]>\n",
      "<Response [200]>\n",
      "<Response [200]>\n",
      "<Response [200]>\n",
      "<Response [200]>\n",
      "<Response [200]>\n",
      "<Response [200]>\n",
      "<Response [200]>\n",
      "<Response [200]>\n",
      "<Response [200]>\n",
      "<Response [200]>\n",
      "<Response [200]>\n",
      "<Response [200]>\n",
      "<Response [200]>\n",
      "<Response [200]>\n",
      "<Response [200]>\n",
      "<Response [200]>\n",
      "<Response [200]>\n",
      "<Response [200]>\n",
      "<Response [200]>\n",
      "<Response [200]>\n",
      "<Response [200]>\n",
      "<Response [200]>\n",
      "<Response [200]>\n",
      "<Response [200]>\n",
      "<Response [200]>\n",
      "<Response [200]>\n",
      "<Response [200]>\n",
      "<Response [200]>\n",
      "<Response [200]>\n",
      "<Response [200]>\n",
      "<Response [200]>\n",
      "<Response [200]>\n",
      "<Response [200]>\n",
      "<Response [200]>\n",
      "<Response [200]>\n",
      "<Response [200]>\n",
      "<Response [200]>\n",
      "<Response [200]>\n",
      "<Response [200]>\n",
      "<Response [200]>\n",
      "<Response [200]>\n",
      "<Response [200]>\n",
      "<Response [200]>\n",
      "<Response [200]>\n",
      "<Response [200]>\n",
      "<Response [200]>\n",
      "<Response [200]>\n",
      "<Response [200]>\n",
      "<Response [200]>\n",
      "<Response [200]>\n",
      "<Response [200]>\n",
      "<Response [200]>\n",
      "<Response [200]>\n",
      "<Response [200]>\n"
     ]
    }
   ],
   "source": [
    "# iterating over each product link and extracting data\n",
    "for link in product_links:\n",
    "    new_webpage=get_webpage(link)\n",
    "    new_soup = BeautifulSoup(new_webpage.content, \"html.parser\")\n",
    "    d['product_id'].append(link.split(\"/\")[-1])\n",
    "    d['title'].append(get_title(new_soup))\n",
    "    d['description'].append(get_description(new_soup))\n",
    "    d['category'].append(get_category(new_soup))\n",
    "    d['url'].append(link)\n",
    "    d['price'].append(get_price(new_soup))\n",
    "    d['image'].append(get_image(new_soup))\n",
    "    size,color,style=get_dropdown_lists(new_soup)\n",
    "    d['sizes'].append(size)\n",
    "    d['colors'].append(color)\n",
    "    d['styles'].append(style)\n",
    "    d['variants_images'].append(get_variants_images(new_soup))"
   ]
  },
  {
   "cell_type": "code",
   "execution_count": 22,
   "id": "fd2a1922-1e6a-4036-aecc-a5ab2c05b9d2",
   "metadata": {},
   "outputs": [
    {
     "data": {
      "text/plain": [
       "57"
      ]
     },
     "execution_count": 22,
     "metadata": {},
     "output_type": "execute_result"
    }
   ],
   "source": [
    "len(d['title'])"
   ]
  },
  {
   "cell_type": "code",
   "execution_count": 23,
   "id": "29b0fa2e-472b-455a-8129-2a7c74da1a1e",
   "metadata": {},
   "outputs": [],
   "source": [
    "# storing into csv\n",
    "foreign_fortune = pd.DataFrame.from_dict(d)\n",
    "foreign_fortune = foreign_fortune.dropna(subset=['title'])\n",
    "foreign_fortune.to_csv(\"output/foreign_fortune_data.csv\", header=True, index=False)"
   ]
  },
  {
   "cell_type": "code",
   "execution_count": 24,
   "id": "dffa2cdd-ce33-4cdd-8640-04f7fef820f9",
   "metadata": {},
   "outputs": [
    {
     "data": {
      "text/html": [
       "<div>\n",
       "<style scoped>\n",
       "    .dataframe tbody tr th:only-of-type {\n",
       "        vertical-align: middle;\n",
       "    }\n",
       "\n",
       "    .dataframe tbody tr th {\n",
       "        vertical-align: top;\n",
       "    }\n",
       "\n",
       "    .dataframe thead th {\n",
       "        text-align: right;\n",
       "    }\n",
       "</style>\n",
       "<table border=\"1\" class=\"dataframe\">\n",
       "  <thead>\n",
       "    <tr style=\"text-align: right;\">\n",
       "      <th></th>\n",
       "      <th>product_id</th>\n",
       "      <th>title</th>\n",
       "      <th>description</th>\n",
       "      <th>category</th>\n",
       "      <th>url</th>\n",
       "      <th>price</th>\n",
       "      <th>image</th>\n",
       "      <th>sizes</th>\n",
       "      <th>colors</th>\n",
       "      <th>styles</th>\n",
       "      <th>variants_images</th>\n",
       "    </tr>\n",
       "  </thead>\n",
       "  <tbody>\n",
       "    <tr>\n",
       "      <th>0</th>\n",
       "      <td>foreign-fortune-collection-joggers-1</td>\n",
       "      <td>Foreign Fortune Collection Joggers- Adult</td>\n",
       "      <td>Our Foreign Fortune Collection Joggers are gre...</td>\n",
       "      <td>Men/Unisex</td>\n",
       "      <td>https://foreignfortune.com//collections/men-un...</td>\n",
       "      <td>$180.00</td>\n",
       "      <td>https://foreignfortune.com/cdn/shop/products/D...</td>\n",
       "      <td>[XS, M, L, XL, 2X, 3X, 4X, 5X]</td>\n",
       "      <td>[Black, Green, Grey, Navy Blue, Red, Yellow]</td>\n",
       "      <td>[Hood, Crewneck]</td>\n",
       "      <td>[https://foreignfortune.com/cdn/shop/products/...</td>\n",
       "    </tr>\n",
       "    <tr>\n",
       "      <th>1</th>\n",
       "      <td>foreign-rovalf-outfit</td>\n",
       "      <td>FOREIGN ROVALF OUTFIT</td>\n",
       "      <td></td>\n",
       "      <td>Men/Unisex</td>\n",
       "      <td>https://foreignfortune.com//collections/men-un...</td>\n",
       "      <td>$150.00</td>\n",
       "      <td>https://foreignfortune.com/cdn/shop/products/i...</td>\n",
       "      <td>[xs, s, m, l, xl, 2x, 3x, 4x, 5x]</td>\n",
       "      <td>[black, purple, figi blue, tiffany blue, white...</td>\n",
       "      <td>[]</td>\n",
       "      <td>[https://foreignfortune.com/cdn/shop/products/...</td>\n",
       "    </tr>\n",
       "    <tr>\n",
       "      <th>2</th>\n",
       "      <td>forign-luxury-tracksuits</td>\n",
       "      <td>Foreign Luxury Tracksuits</td>\n",
       "      <td>Foreign luxury tracksuits are unisex tracksuit...</td>\n",
       "      <td>Men/Unisex</td>\n",
       "      <td>https://foreignfortune.com//collections/men-un...</td>\n",
       "      <td>$150.00</td>\n",
       "      <td>https://foreignfortune.com/cdn/shop/products/9...</td>\n",
       "      <td>[S, M, L, XL, 2X]</td>\n",
       "      <td>[Black/White, Purple/Gray/White, Cream/Brown/W...</td>\n",
       "      <td>[]</td>\n",
       "      <td>[https://foreignfortune.com/cdn/shop/products/...</td>\n",
       "    </tr>\n",
       "    <tr>\n",
       "      <th>3</th>\n",
       "      <td>ff-coats-w-hats</td>\n",
       "      <td>FF Coats</td>\n",
       "      <td>Our Signature FF coats are great for the winte...</td>\n",
       "      <td>Men/Unisex</td>\n",
       "      <td>https://foreignfortune.com//collections/men-un...</td>\n",
       "      <td>$200.00</td>\n",
       "      <td>https://foreignfortune.com/cdn/shop/products/8...</td>\n",
       "      <td>[XS, M, L, XL, 2X, 3X]</td>\n",
       "      <td>[Black, Red, Cream, Blue]</td>\n",
       "      <td>[]</td>\n",
       "      <td>[https://foreignfortune.com/cdn/shop/products/...</td>\n",
       "    </tr>\n",
       "    <tr>\n",
       "      <th>4</th>\n",
       "      <td>foreign-language-hoodie</td>\n",
       "      <td>Foreign Language Hoodie</td>\n",
       "      <td></td>\n",
       "      <td>Men/Unisex</td>\n",
       "      <td>https://foreignfortune.com//collections/men-un...</td>\n",
       "      <td>$80.00</td>\n",
       "      <td>https://foreignfortune.com/cdn/shop/products/7...</td>\n",
       "      <td>[S, M, L, XL, 2X, 3X, 4X]</td>\n",
       "      <td>[Red, Black, Olive Green, Royal, Off-White]</td>\n",
       "      <td>[]</td>\n",
       "      <td>[https://foreignfortune.com/cdn/shop/products/...</td>\n",
       "    </tr>\n",
       "  </tbody>\n",
       "</table>\n",
       "</div>"
      ],
      "text/plain": [
       "                             product_id  \\\n",
       "0  foreign-fortune-collection-joggers-1   \n",
       "1                 foreign-rovalf-outfit   \n",
       "2              forign-luxury-tracksuits   \n",
       "3                       ff-coats-w-hats   \n",
       "4               foreign-language-hoodie   \n",
       "\n",
       "                                       title  \\\n",
       "0  Foreign Fortune Collection Joggers- Adult   \n",
       "1                      FOREIGN ROVALF OUTFIT   \n",
       "2                  Foreign Luxury Tracksuits   \n",
       "3                                   FF Coats   \n",
       "4                    Foreign Language Hoodie   \n",
       "\n",
       "                                         description    category  \\\n",
       "0  Our Foreign Fortune Collection Joggers are gre...  Men/Unisex   \n",
       "1                                                     Men/Unisex   \n",
       "2  Foreign luxury tracksuits are unisex tracksuit...  Men/Unisex   \n",
       "3  Our Signature FF coats are great for the winte...  Men/Unisex   \n",
       "4                                                     Men/Unisex   \n",
       "\n",
       "                                                 url    price  \\\n",
       "0  https://foreignfortune.com//collections/men-un...  $180.00   \n",
       "1  https://foreignfortune.com//collections/men-un...  $150.00   \n",
       "2  https://foreignfortune.com//collections/men-un...  $150.00   \n",
       "3  https://foreignfortune.com//collections/men-un...  $200.00   \n",
       "4  https://foreignfortune.com//collections/men-un...   $80.00   \n",
       "\n",
       "                                               image  \\\n",
       "0  https://foreignfortune.com/cdn/shop/products/D...   \n",
       "1  https://foreignfortune.com/cdn/shop/products/i...   \n",
       "2  https://foreignfortune.com/cdn/shop/products/9...   \n",
       "3  https://foreignfortune.com/cdn/shop/products/8...   \n",
       "4  https://foreignfortune.com/cdn/shop/products/7...   \n",
       "\n",
       "                               sizes  \\\n",
       "0     [XS, M, L, XL, 2X, 3X, 4X, 5X]   \n",
       "1  [xs, s, m, l, xl, 2x, 3x, 4x, 5x]   \n",
       "2                  [S, M, L, XL, 2X]   \n",
       "3             [XS, M, L, XL, 2X, 3X]   \n",
       "4          [S, M, L, XL, 2X, 3X, 4X]   \n",
       "\n",
       "                                              colors            styles  \\\n",
       "0       [Black, Green, Grey, Navy Blue, Red, Yellow]  [Hood, Crewneck]   \n",
       "1  [black, purple, figi blue, tiffany blue, white...                []   \n",
       "2  [Black/White, Purple/Gray/White, Cream/Brown/W...                []   \n",
       "3                          [Black, Red, Cream, Blue]                []   \n",
       "4        [Red, Black, Olive Green, Royal, Off-White]                []   \n",
       "\n",
       "                                     variants_images  \n",
       "0  [https://foreignfortune.com/cdn/shop/products/...  \n",
       "1  [https://foreignfortune.com/cdn/shop/products/...  \n",
       "2  [https://foreignfortune.com/cdn/shop/products/...  \n",
       "3  [https://foreignfortune.com/cdn/shop/products/...  \n",
       "4  [https://foreignfortune.com/cdn/shop/products/...  "
      ]
     },
     "execution_count": 24,
     "metadata": {},
     "output_type": "execute_result"
    }
   ],
   "source": [
    "foreign_fortune.head()"
   ]
  },
  {
   "cell_type": "markdown",
   "id": "32d0fe43-22d4-4de0-9d42-91e306cd2fee",
   "metadata": {},
   "source": [
    "## Validating Data"
   ]
  },
  {
   "cell_type": "code",
   "execution_count": 2,
   "id": "e1f44305-31d4-4d73-b7d4-db2c9c9c2c6e",
   "metadata": {},
   "outputs": [],
   "source": [
    "df = pd.read_csv('output/foreign_fortune_data.csv',converters={'sizes':pd.eval,'colors':pd.eval,'styles':pd.eval,'variants_images':pd.eval})"
   ]
  },
  {
   "cell_type": "code",
   "execution_count": 3,
   "id": "bf36a2de-ba9e-4d46-9279-e7e3b2dc96e2",
   "metadata": {},
   "outputs": [],
   "source": [
    "df=df.fillna(\"\")"
   ]
  },
  {
   "cell_type": "code",
   "execution_count": 4,
   "id": "98f9c053-0b6c-4634-b1ec-9eab07088932",
   "metadata": {},
   "outputs": [
    {
     "data": {
      "text/html": [
       "<div>\n",
       "<style scoped>\n",
       "    .dataframe tbody tr th:only-of-type {\n",
       "        vertical-align: middle;\n",
       "    }\n",
       "\n",
       "    .dataframe tbody tr th {\n",
       "        vertical-align: top;\n",
       "    }\n",
       "\n",
       "    .dataframe thead th {\n",
       "        text-align: right;\n",
       "    }\n",
       "</style>\n",
       "<table border=\"1\" class=\"dataframe\">\n",
       "  <thead>\n",
       "    <tr style=\"text-align: right;\">\n",
       "      <th></th>\n",
       "      <th>product_id</th>\n",
       "      <th>title</th>\n",
       "      <th>description</th>\n",
       "      <th>category</th>\n",
       "      <th>url</th>\n",
       "      <th>price</th>\n",
       "      <th>image</th>\n",
       "      <th>sizes</th>\n",
       "      <th>colors</th>\n",
       "      <th>styles</th>\n",
       "      <th>variants_images</th>\n",
       "    </tr>\n",
       "  </thead>\n",
       "  <tbody>\n",
       "    <tr>\n",
       "      <th>0</th>\n",
       "      <td>foreign-fortune-collection-joggers-1</td>\n",
       "      <td>Foreign Fortune Collection Joggers- Adult</td>\n",
       "      <td>Our Foreign Fortune Collection Joggers are gre...</td>\n",
       "      <td>Men/Unisex</td>\n",
       "      <td>https://foreignfortune.com//collections/men-un...</td>\n",
       "      <td>$180.00</td>\n",
       "      <td>https://foreignfortune.com/cdn/shop/products/D...</td>\n",
       "      <td>[XS, M, L, XL, 2X, 3X, 4X, 5X]</td>\n",
       "      <td>[Black, Green, Grey, Navy Blue, Red, Yellow]</td>\n",
       "      <td>[Hood, Crewneck]</td>\n",
       "      <td>[https://foreignfortune.com/cdn/shop/products/...</td>\n",
       "    </tr>\n",
       "    <tr>\n",
       "      <th>1</th>\n",
       "      <td>foreign-rovalf-outfit</td>\n",
       "      <td>FOREIGN ROVALF OUTFIT</td>\n",
       "      <td></td>\n",
       "      <td>Men/Unisex</td>\n",
       "      <td>https://foreignfortune.com//collections/men-un...</td>\n",
       "      <td>$150.00</td>\n",
       "      <td>https://foreignfortune.com/cdn/shop/products/i...</td>\n",
       "      <td>[xs, s, m, l, xl, 2x, 3x, 4x, 5x]</td>\n",
       "      <td>[black, purple, figi blue, tiffany blue, white...</td>\n",
       "      <td>[]</td>\n",
       "      <td>[https://foreignfortune.com/cdn/shop/products/...</td>\n",
       "    </tr>\n",
       "    <tr>\n",
       "      <th>2</th>\n",
       "      <td>forign-luxury-tracksuits</td>\n",
       "      <td>Foreign Luxury Tracksuits</td>\n",
       "      <td>Foreign luxury tracksuits are unisex tracksuit...</td>\n",
       "      <td>Men/Unisex</td>\n",
       "      <td>https://foreignfortune.com//collections/men-un...</td>\n",
       "      <td>$150.00</td>\n",
       "      <td>https://foreignfortune.com/cdn/shop/products/9...</td>\n",
       "      <td>[S, M, L, XL, 2X]</td>\n",
       "      <td>[Black/White, Purple/Gray/White, Cream/Brown/W...</td>\n",
       "      <td>[]</td>\n",
       "      <td>[https://foreignfortune.com/cdn/shop/products/...</td>\n",
       "    </tr>\n",
       "    <tr>\n",
       "      <th>3</th>\n",
       "      <td>ff-coats-w-hats</td>\n",
       "      <td>FF Coats</td>\n",
       "      <td>Our Signature FF coats are great for the winte...</td>\n",
       "      <td>Men/Unisex</td>\n",
       "      <td>https://foreignfortune.com//collections/men-un...</td>\n",
       "      <td>$200.00</td>\n",
       "      <td>https://foreignfortune.com/cdn/shop/products/8...</td>\n",
       "      <td>[XS, M, L, XL, 2X, 3X]</td>\n",
       "      <td>[Black, Red, Cream, Blue]</td>\n",
       "      <td>[]</td>\n",
       "      <td>[https://foreignfortune.com/cdn/shop/products/...</td>\n",
       "    </tr>\n",
       "    <tr>\n",
       "      <th>4</th>\n",
       "      <td>foreign-language-hoodie</td>\n",
       "      <td>Foreign Language Hoodie</td>\n",
       "      <td></td>\n",
       "      <td>Men/Unisex</td>\n",
       "      <td>https://foreignfortune.com//collections/men-un...</td>\n",
       "      <td>$80.00</td>\n",
       "      <td>https://foreignfortune.com/cdn/shop/products/7...</td>\n",
       "      <td>[S, M, L, XL, 2X, 3X, 4X]</td>\n",
       "      <td>[Red, Black, Olive Green, Royal, Off-White]</td>\n",
       "      <td>[]</td>\n",
       "      <td>[https://foreignfortune.com/cdn/shop/products/...</td>\n",
       "    </tr>\n",
       "  </tbody>\n",
       "</table>\n",
       "</div>"
      ],
      "text/plain": [
       "                             product_id  \\\n",
       "0  foreign-fortune-collection-joggers-1   \n",
       "1                 foreign-rovalf-outfit   \n",
       "2              forign-luxury-tracksuits   \n",
       "3                       ff-coats-w-hats   \n",
       "4               foreign-language-hoodie   \n",
       "\n",
       "                                       title  \\\n",
       "0  Foreign Fortune Collection Joggers- Adult   \n",
       "1                      FOREIGN ROVALF OUTFIT   \n",
       "2                  Foreign Luxury Tracksuits   \n",
       "3                                   FF Coats   \n",
       "4                    Foreign Language Hoodie   \n",
       "\n",
       "                                         description    category  \\\n",
       "0  Our Foreign Fortune Collection Joggers are gre...  Men/Unisex   \n",
       "1                                                     Men/Unisex   \n",
       "2  Foreign luxury tracksuits are unisex tracksuit...  Men/Unisex   \n",
       "3  Our Signature FF coats are great for the winte...  Men/Unisex   \n",
       "4                                                     Men/Unisex   \n",
       "\n",
       "                                                 url    price  \\\n",
       "0  https://foreignfortune.com//collections/men-un...  $180.00   \n",
       "1  https://foreignfortune.com//collections/men-un...  $150.00   \n",
       "2  https://foreignfortune.com//collections/men-un...  $150.00   \n",
       "3  https://foreignfortune.com//collections/men-un...  $200.00   \n",
       "4  https://foreignfortune.com//collections/men-un...   $80.00   \n",
       "\n",
       "                                               image  \\\n",
       "0  https://foreignfortune.com/cdn/shop/products/D...   \n",
       "1  https://foreignfortune.com/cdn/shop/products/i...   \n",
       "2  https://foreignfortune.com/cdn/shop/products/9...   \n",
       "3  https://foreignfortune.com/cdn/shop/products/8...   \n",
       "4  https://foreignfortune.com/cdn/shop/products/7...   \n",
       "\n",
       "                               sizes  \\\n",
       "0     [XS, M, L, XL, 2X, 3X, 4X, 5X]   \n",
       "1  [xs, s, m, l, xl, 2x, 3x, 4x, 5x]   \n",
       "2                  [S, M, L, XL, 2X]   \n",
       "3             [XS, M, L, XL, 2X, 3X]   \n",
       "4          [S, M, L, XL, 2X, 3X, 4X]   \n",
       "\n",
       "                                              colors            styles  \\\n",
       "0       [Black, Green, Grey, Navy Blue, Red, Yellow]  [Hood, Crewneck]   \n",
       "1  [black, purple, figi blue, tiffany blue, white...                []   \n",
       "2  [Black/White, Purple/Gray/White, Cream/Brown/W...                []   \n",
       "3                          [Black, Red, Cream, Blue]                []   \n",
       "4        [Red, Black, Olive Green, Royal, Off-White]                []   \n",
       "\n",
       "                                     variants_images  \n",
       "0  [https://foreignfortune.com/cdn/shop/products/...  \n",
       "1  [https://foreignfortune.com/cdn/shop/products/...  \n",
       "2  [https://foreignfortune.com/cdn/shop/products/...  \n",
       "3  [https://foreignfortune.com/cdn/shop/products/...  \n",
       "4  [https://foreignfortune.com/cdn/shop/products/...  "
      ]
     },
     "execution_count": 4,
     "metadata": {},
     "output_type": "execute_result"
    }
   ],
   "source": [
    "df.head()"
   ]
  },
  {
   "cell_type": "code",
   "execution_count": 5,
   "id": "ce941646-fd1b-4f1f-876f-4d9d40090760",
   "metadata": {},
   "outputs": [],
   "source": [
    "data = df.to_dict(orient='records')"
   ]
  },
  {
   "cell_type": "code",
   "execution_count": 6,
   "id": "94b8ea29-1bf4-4d96-9330-13347683b601",
   "metadata": {},
   "outputs": [
    {
     "data": {
      "text/plain": [
       "57"
      ]
     },
     "execution_count": 6,
     "metadata": {},
     "output_type": "execute_result"
    }
   ],
   "source": [
    "len(data)"
   ]
  },
  {
   "cell_type": "code",
   "execution_count": 7,
   "id": "27d447aa-700a-43ba-a49c-e6b4078dc439",
   "metadata": {},
   "outputs": [],
   "source": [
    "validated_data=[]\n",
    "invalid_data=[]"
   ]
  },
  {
   "cell_type": "code",
   "execution_count": 8,
   "id": "1e1e4854-218c-46ec-b048-90354f6e3cb3",
   "metadata": {},
   "outputs": [],
   "source": [
    "def check(col_name, is_valid, invalid_columns):\n",
    "    if not is_valid:\n",
    "        invalid_columns.append(col_name)\n",
    "    return invalid_columns"
   ]
  },
  {
   "cell_type": "code",
   "execution_count": 9,
   "id": "9eb5a983-6cb2-47e8-aed5-44d5706b7953",
   "metadata": {},
   "outputs": [],
   "source": [
    "for row in data:\n",
    "    invalid_columns=[]\n",
    "    is_valid_product_id = ProductValidator.validate_product_id(row['product_id'])\n",
    "    invalid_columns=check('product_id',is_valid_product_id,invalid_columns)\n",
    "    \n",
    "    is_valid_title = ProductValidator.validate_title(row['title'])\n",
    "    invalid_columns=check('title',is_valid_title,invalid_columns)\n",
    "    #print(is_valid_title)\n",
    "    \n",
    "    is_valid_description = ProductValidator.validate_description(row['description'])\n",
    "    invalid_columns=check('description',is_valid_description,invalid_columns)\n",
    "    #print(is_valid_description)\n",
    "    \n",
    "    is_valid_url = ProductValidator.validate_url(row['url'])\n",
    "    invalid_columns=check('url',is_valid_url,invalid_columns)\n",
    "    #print(is_valid_url)\n",
    "    \n",
    "    is_valid_price = ProductValidator.validate_price(row['price'])\n",
    "    invalid_columns=check('price',is_valid_price,invalid_columns)\n",
    "    #print(is_valid_price)\n",
    "    \n",
    "    is_valid_image_url = ProductValidator.validate_image_url(row['image'])\n",
    "    invalid_columns=check('image',is_valid_image_url,invalid_columns)\n",
    "    #print(is_valid_image_url)\n",
    "    \n",
    "    is_valid_variants_images = ProductValidator.validate_variants_images(row['colors'],row['variants_images'])\n",
    "    invalid_columns=check('colors and variants_images',is_valid_variants_images,invalid_columns)\n",
    "    #print(is_valid_variants_images)\n",
    "    \n",
    "    is_valid_variants_images_urls = ProductValidator.validate_variants_images_urls(row['variants_images'])\n",
    "    invalid_columns=check('variants_images',is_valid_variants_images_urls,invalid_columns)\n",
    "    #print(is_valid_variants_images_urls)\n",
    "\n",
    "    if len(invalid_columns)>0:\n",
    "        row['invalid_columns']=invalid_columns\n",
    "        invalid_data.append(row)\n",
    "    else:\n",
    "        validated_data.append(row)"
   ]
  },
  {
   "cell_type": "code",
   "execution_count": 10,
   "id": "af72b2c5-9ddd-4af1-9753-6a7170d943d6",
   "metadata": {},
   "outputs": [],
   "source": [
    "validated_data_df = pd.DataFrame.from_dict(validated_data)"
   ]
  },
  {
   "cell_type": "code",
   "execution_count": 11,
   "id": "d656440a-c226-4b69-b28d-07339bd01c01",
   "metadata": {},
   "outputs": [
    {
     "data": {
      "text/plain": [
       "(21, 11)"
      ]
     },
     "execution_count": 11,
     "metadata": {},
     "output_type": "execute_result"
    }
   ],
   "source": [
    "validated_data_df.shape"
   ]
  },
  {
   "cell_type": "code",
   "execution_count": 12,
   "id": "39babb28-fb23-45e9-8aaf-57f4e00059ae",
   "metadata": {},
   "outputs": [],
   "source": [
    "invalid_data_df = pd.DataFrame.from_dict(invalid_data)"
   ]
  },
  {
   "cell_type": "code",
   "execution_count": 13,
   "id": "d1f08a23-034b-4ad6-99f9-db89163f99a0",
   "metadata": {},
   "outputs": [
    {
     "data": {
      "text/plain": [
       "(36, 12)"
      ]
     },
     "execution_count": 13,
     "metadata": {},
     "output_type": "execute_result"
    }
   ],
   "source": [
    "invalid_data_df.shape"
   ]
  },
  {
   "cell_type": "code",
   "execution_count": 14,
   "id": "9faba862-ff67-4777-9326-ddf707f589da",
   "metadata": {},
   "outputs": [],
   "source": [
    "validated_data_df.to_csv(\"output/validated_foreign_fortune_data.csv\", header=True, index=False)"
   ]
  },
  {
   "cell_type": "code",
   "execution_count": 15,
   "id": "40f09e03-9fd3-4cce-b63a-b15bf0620b6d",
   "metadata": {},
   "outputs": [],
   "source": [
    "invalid_data_df.to_csv(\"output/invalid_foreign_fortune_data.csv\", header=True, index=False)"
   ]
  },
  {
   "cell_type": "code",
   "execution_count": null,
   "id": "994eb9ae-c0ea-4f57-bbdd-7c827bf87ec3",
   "metadata": {},
   "outputs": [],
   "source": [
    "\"\""
   ]
  }
 ],
 "metadata": {
  "kernelspec": {
   "display_name": "Python 3 (ipykernel)",
   "language": "python",
   "name": "python3"
  },
  "language_info": {
   "codemirror_mode": {
    "name": "ipython",
    "version": 3
   },
   "file_extension": ".py",
   "mimetype": "text/x-python",
   "name": "python",
   "nbconvert_exporter": "python",
   "pygments_lexer": "ipython3",
   "version": "3.10.0"
  }
 },
 "nbformat": 4,
 "nbformat_minor": 5
}
