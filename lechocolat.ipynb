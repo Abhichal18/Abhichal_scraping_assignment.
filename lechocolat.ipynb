{
 "cells": [
  {
   "cell_type": "code",
   "execution_count": 1,
   "id": "451328c5-d750-4a85-8d2d-913ab15515b9",
   "metadata": {},
   "outputs": [],
   "source": [
    "from bs4 import BeautifulSoup,ResultSet\n",
    "import requests\n",
    "import pandas as pd\n",
    "import numpy as np\n",
    "import re\n",
    "from validation import ProductValidator"
   ]
  },
  {
   "cell_type": "code",
   "execution_count": 2,
   "id": "2c618c7c-01e3-4503-b00a-f88dcef669b6",
   "metadata": {},
   "outputs": [],
   "source": [
    "# The webpage URL\n",
    "URL = \"https://www.lechocolat-alainducasse.com/uk/\""
   ]
  },
  {
   "cell_type": "code",
   "execution_count": 3,
   "id": "912b20b9-a4e2-4138-81b0-cfe407b3838f",
   "metadata": {},
   "outputs": [],
   "source": [
    "def get_webpage(url):\n",
    "    HEADERS = ({'Accept-Language': 'en-US, en;q=0.5'})\n",
    "    #print(url)\n",
    "    webpage = requests.get(url,headers=HEADERS)\n",
    "    print(webpage)\n",
    "    return webpage\n",
    "    "
   ]
  },
  {
   "cell_type": "code",
   "execution_count": 4,
   "id": "412a1504-64ad-4a56-afd0-d12ad8d5c2cb",
   "metadata": {},
   "outputs": [],
   "source": [
    "def get_links(webpage,class_name):\n",
    "    try:\n",
    "        soup = BeautifulSoup(webpage.content, \"html.parser\")\n",
    "        #print(soup.get_text())\n",
    "        links = soup.find_all(\"a\", attrs={'class':class_name})\n",
    "        links_list = []\n",
    "        for link in links:\n",
    "            item_link = link.get('href')\n",
    "            if URL not in item_link:\n",
    "                links_list.append(URL+item_link)\n",
    "            else:\n",
    "                links_list.append(item_link)\n",
    "    except:\n",
    "        print('B')\n",
    "        links_list=[]\n",
    "    return links_list"
   ]
  },
  {
   "cell_type": "code",
   "execution_count": 5,
   "id": "671ee821-646c-4f59-8943-ed589bc0ccfc",
   "metadata": {},
   "outputs": [
    {
     "name": "stdout",
     "output_type": "stream",
     "text": [
      "<Response [200]>\n"
     ]
    }
   ],
   "source": [
    "webpage = get_webpage(URL)"
   ]
  },
  {
   "cell_type": "code",
   "execution_count": 6,
   "id": "af997a60-44fb-44b5-8035-7ca0105a81cf",
   "metadata": {},
   "outputs": [],
   "source": [
    "\n",
    "category_links = get_links(webpage,\"siteMenuItem__link\")"
   ]
  },
  {
   "cell_type": "code",
   "execution_count": 7,
   "id": "3252482f-3cfa-432a-87c1-74688760fffc",
   "metadata": {},
   "outputs": [
    {
     "data": {
      "text/plain": [
       "['https://www.lechocolat-alainducasse.com/uk/easter-chocolate',\n",
       " 'https://www.lechocolat-alainducasse.com/uk/chocolates',\n",
       " 'https://www.lechocolat-alainducasse.com/uk/chocolate-bar',\n",
       " 'https://www.lechocolat-alainducasse.com/uk/chocolate-gift',\n",
       " 'https://www.lechocolat-alainducasse.com/uk/simple-pleasures',\n",
       " 'https://www.lechocolat-alainducasse.com/uk/breakfast-snacks']"
      ]
     },
     "execution_count": 7,
     "metadata": {},
     "output_type": "execute_result"
    }
   ],
   "source": [
    "category_links"
   ]
  },
  {
   "cell_type": "code",
   "execution_count": 8,
   "id": "455d076c-da24-484a-93ad-0eb0488ca223",
   "metadata": {},
   "outputs": [
    {
     "name": "stdout",
     "output_type": "stream",
     "text": [
      "<Response [200]>\n",
      "<Response [200]>\n",
      "<Response [200]>\n",
      "<Response [200]>\n",
      "<Response [200]>\n",
      "<Response [200]>\n"
     ]
    }
   ],
   "source": [
    "product_links=[]\n",
    "for link in category_links:\n",
    "    temp_links=get_links(get_webpage(link),\"productMiniature__name\")\n",
    "    product_links.extend(temp_links)"
   ]
  },
  {
   "cell_type": "code",
   "execution_count": 9,
   "id": "c7a63ee4-b958-486c-804e-10d69dd9c9dc",
   "metadata": {},
   "outputs": [
    {
     "data": {
      "text/plain": [
       "151"
      ]
     },
     "execution_count": 9,
     "metadata": {},
     "output_type": "execute_result"
    }
   ],
   "source": [
    "len(product_links)"
   ]
  },
  {
   "cell_type": "code",
   "execution_count": 10,
   "id": "11f8a99a-7125-4cfb-a680-228c1ccade36",
   "metadata": {},
   "outputs": [
    {
     "data": {
      "text/plain": [
       "['https://www.lechocolat-alainducasse.com/uk/the-hide-and-seek-box',\n",
       " 'https://www.lechocolat-alainducasse.com/uk/oeuf-facette',\n",
       " 'https://www.lechocolat-alainducasse.com/uk/4-easter-eggs-praline',\n",
       " 'https://www.lechocolat-alainducasse.com/uk/peacock-dark-chocolate-box',\n",
       " 'https://www.lechocolat-alainducasse.com/uk/hexa-milk-chocolate-woodpecke',\n",
       " 'https://www.lechocolat-alainducasse.com/uk/chick-milk-chocolate-bar',\n",
       " 'https://www.lechocolat-alainducasse.com/uk/the-dark-chocolate-chick',\n",
       " 'https://www.lechocolat-alainducasse.com/uk/peacock-milk-chocolate-box',\n",
       " 'https://www.lechocolat-alainducasse.com/uk/chick-dark-chocolate-bar',\n",
       " 'https://www.lechocolat-alainducasse.com/uk/hexa-dark-chocolate-woodpecker',\n",
       " 'https://www.lechocolat-alainducasse.com/uk/easter-treats-milk#/77-size-150g',\n",
       " 'https://www.lechocolat-alainducasse.com/uk/the-chocolate-lamb',\n",
       " 'https://www.lechocolat-alainducasse.com/uk/easter-egg-dark-t1#/77-size-150g',\n",
       " 'https://www.lechocolat-alainducasse.com/uk/easter-egg-milk#/77-size-150g',\n",
       " 'https://www.lechocolat-alainducasse.com/uk/chocolate-egg-to-set',\n",
       " 'https://www.lechocolat-alainducasse.com/uk/sardine-tin',\n",
       " 'https://www.lechocolat-alainducasse.com/uk/easter-treat-praline-dark#/77-size-150g',\n",
       " 'https://www.lechocolat-alainducasse.com/uk/dark-easter-treats-#/77-size-150g',\n",
       " 'https://www.lechocolat-alainducasse.com/uk/the-milk-chocolate-chick',\n",
       " 'https://www.lechocolat-alainducasse.com/uk/easter-french-hen-small-dark',\n",
       " 'https://www.lechocolat-alainducasse.com/uk/easter-french-hen-small-milk',\n",
       " 'https://www.lechocolat-alainducasse.com/uk/easter-bunny-dark',\n",
       " 'https://www.lechocolat-alainducasse.com/uk/easter-bunny-milk',\n",
       " 'https://www.lechocolat-alainducasse.com/uk/pepites-box-dark-16-pieces',\n",
       " 'https://www.lechocolat-alainducasse.com/uk/pepites-box-milk-16-pieces',\n",
       " 'https://www.lechocolat-alainducasse.com/uk/discovery-box-12-pieces',\n",
       " 'https://www.lechocolat-alainducasse.com/uk/double-bites-box-4',\n",
       " 'https://www.lechocolat-alainducasse.com/uk/box-essentials-small',\n",
       " 'https://www.lechocolat-alainducasse.com/uk/box-essentials-large',\n",
       " 'https://www.lechocolat-alainducasse.com/uk/square-chocolate-bites-box-30-pieces',\n",
       " 'https://www.lechocolat-alainducasse.com/uk/coffret-carres-degustation-50-pieces',\n",
       " 'https://www.lechocolat-alainducasse.com/uk/praline-ancienne',\n",
       " 'https://www.lechocolat-alainducasse.com/uk/discovery-box-45-pieces',\n",
       " 'https://www.lechocolat-alainducasse.com/uk/pepites-box-36-pieces',\n",
       " 'https://www.lechocolat-alainducasse.com/uk/discovery-box-30-pieces',\n",
       " 'https://www.lechocolat-alainducasse.com/uk/praline-ancienne-39-pieces',\n",
       " 'https://www.lechocolat-alainducasse.com/uk/discovery-box-21-pieces',\n",
       " 'https://www.lechocolat-alainducasse.com/uk/discovery-box-58-pieces',\n",
       " 'https://www.lechocolat-alainducasse.com/uk/discovery-box-90-pieces',\n",
       " 'https://www.lechocolat-alainducasse.com/uk/double-bites-box',\n",
       " 'https://www.lechocolat-alainducasse.com/uk/single-origin-ganache-chocolate',\n",
       " 'https://www.lechocolat-alainducasse.com/uk/flavoured-ganache',\n",
       " 'https://www.lechocolat-alainducasse.com/uk/single-origin-flavoured-ganache',\n",
       " 'https://www.lechocolat-alainducasse.com/uk/single-origin-ganache-praline-ancienne',\n",
       " 'https://www.lechocolat-alainducasse.com/uk/box-bars',\n",
       " 'https://www.lechocolat-alainducasse.com/uk/coffret-cocorico-16-pepittes',\n",
       " 'https://www.lechocolat-alainducasse.com/uk/ganache-flavoured-praline-ancienne',\n",
       " 'https://www.lechocolat-alainducasse.com/uk/perou-rustic-tradition-chocolate-bar-dark',\n",
       " 'https://www.lechocolat-alainducasse.com/uk/single-origin-bar-dark-peru-100',\n",
       " 'https://www.lechocolat-alainducasse.com/uk/signature-bar-dark-the-blend-75',\n",
       " 'https://www.lechocolat-alainducasse.com/uk/tradition-bar-madagascar-milk-rustic',\n",
       " 'https://www.lechocolat-alainducasse.com/uk/vegan-chocolate-bar-coconut-milk-45',\n",
       " 'https://www.lechocolat-alainducasse.com/uk/cocoa-pods-bar-dark',\n",
       " 'https://www.lechocolat-alainducasse.com/uk/cocoa-pods-bar',\n",
       " 'https://www.lechocolat-alainducasse.com/uk/mendiant-bar-dark-chopped-pistachio',\n",
       " 'https://www.lechocolat-alainducasse.com/uk/mendiant-bar-dark-caramelized-hazelnut',\n",
       " 'https://www.lechocolat-alainducasse.com/uk/mendiant-bar-caramelised-almond',\n",
       " 'https://www.lechocolat-alainducasse.com/uk/mendiant-bar-dark-almond-candied-orange-fig',\n",
       " 'https://www.lechocolat-alainducasse.com/uk/mendiant-bar-milk-caramelized-almond',\n",
       " 'https://www.lechocolat-alainducasse.com/uk/mendiant-bar-milk-almond-orange-fig',\n",
       " 'https://www.lechocolat-alainducasse.com/uk/mendiant-bar-milk-chopped-pistachio',\n",
       " 'https://www.lechocolat-alainducasse.com/uk/mendiant-bar-milk-caramelized-hazelnut',\n",
       " 'https://www.lechocolat-alainducasse.com/uk/single-origin-bar-equador-85',\n",
       " 'https://www.lechocolat-alainducasse.com/uk/tanzanie',\n",
       " 'https://www.lechocolat-alainducasse.com/uk/single-origin-bar-dark-java-75',\n",
       " 'https://www.lechocolat-alainducasse.com/uk/colombie-criollo',\n",
       " 'https://www.lechocolat-alainducasse.com/uk/single-origin-dark-mexico-75-grand-cru',\n",
       " 'https://www.lechocolat-alainducasse.com/uk/single-origin-bar-dark-sao-tome-amelonado-75-grand-cru',\n",
       " 'https://www.lechocolat-alainducasse.com/uk/single-origin-bar-dark-cru-brasil-75',\n",
       " 'https://www.lechocolat-alainducasse.com/uk/ecuador-chocolate-milk-60',\n",
       " 'https://www.lechocolat-alainducasse.com/uk/togo-chocolate-milk',\n",
       " 'https://www.lechocolat-alainducasse.com/uk/single-origin-bar-madagascar-milk-55',\n",
       " 'https://www.lechocolat-alainducasse.com/uk/single-origin-bar-milk-madagascar-45',\n",
       " 'https://www.lechocolat-alainducasse.com/uk/single-origin-bar-milk-peru-45',\n",
       " 'https://www.lechocolat-alainducasse.com/uk/single-origin-bar-milk-madagascar-35',\n",
       " 'https://www.lechocolat-alainducasse.com/uk/filled-bar-dark-pistachio-flavoured-marzipan',\n",
       " 'https://www.lechocolat-alainducasse.com/uk/filled-bar-dark-smooth-caramel',\n",
       " 'https://www.lechocolat-alainducasse.com/uk/filled-bar-milk-smooth-caramel',\n",
       " 'https://www.lechocolat-alainducasse.com/uk/giant-chocolate-bar-milk',\n",
       " 'https://www.lechocolat-alainducasse.com/uk/coffret-carres-degustation-50-pieces',\n",
       " 'https://www.lechocolat-alainducasse.com/uk/square-chocolate-bites-box-30-pieces',\n",
       " 'https://www.lechocolat-alainducasse.com/uk/box-bars',\n",
       " 'https://www.lechocolat-alainducasse.com/uk/tradition-bar-dark-sugar-free',\n",
       " 'https://www.lechocolat-alainducasse.com/uk/mendiant-bar-dark-nougatine-fleur-de-sel',\n",
       " 'https://www.lechocolat-alainducasse.com/uk/mendiant-bar-milk-nougatine-fleur-sel',\n",
       " 'https://www.lechocolat-alainducasse.com/uk/madagascar-mivoatra-bar',\n",
       " 'https://www.lechocolat-alainducasse.com/uk/single-origin-bar-dark-vietnam-75',\n",
       " 'https://www.lechocolat-alainducasse.com/uk/single-origin-bar-dark-philippines-trinitario-75',\n",
       " 'https://www.lechocolat-alainducasse.com/uk/single-origin-bar-dark-chuncho-peru-75-grand-cru',\n",
       " 'https://www.lechocolat-alainducasse.com/uk/single-origin-bar-dark-chuao-75',\n",
       " 'https://www.lechocolat-alainducasse.com/uk/single-origin-bar-dark-madagascar-75-grand-cru',\n",
       " 'https://www.lechocolat-alainducasse.com/uk/single-origin-bar-dark-bolivia-75',\n",
       " 'https://www.lechocolat-alainducasse.com/uk/filled-bar-dark-coconut-praline',\n",
       " 'https://www.lechocolat-alainducasse.com/uk/filled-bar-dark-hazelnut-praline-fleur-sel',\n",
       " 'https://www.lechocolat-alainducasse.com/uk/filled-bar-milk-hazelnut-praline-fleur-sel',\n",
       " 'https://www.lechocolat-alainducasse.com/uk/filled-bar-dark-pistachio-praline',\n",
       " 'https://www.lechocolat-alainducasse.com/uk/little-rooster-dark',\n",
       " 'https://www.lechocolat-alainducasse.com/uk/little-rooster-milk',\n",
       " 'https://www.lechocolat-alainducasse.com/uk/french-hexagon-dark-praline',\n",
       " 'https://www.lechocolat-alainducasse.com/uk/french-hexagon-milk-praline',\n",
       " 'https://www.lechocolat-alainducasse.com/uk/french-hexagon-mendiant-milk',\n",
       " 'https://www.lechocolat-alainducasse.com/uk/french-hexagon-mendiant-dark',\n",
       " 'https://www.lechocolat-alainducasse.com/uk/nuts-candied-fruits-elysee-bar-dark',\n",
       " 'https://www.lechocolat-alainducasse.com/uk/fruits-secs-confits-francais-tablette-elysee-lait',\n",
       " 'https://www.lechocolat-alainducasse.com/uk/giant-chocolate-bar-dark',\n",
       " 'https://www.lechocolat-alainducasse.com/uk/the-hide-and-seek-box',\n",
       " 'https://www.lechocolat-alainducasse.com/uk/4-easter-eggs-praline',\n",
       " 'https://www.lechocolat-alainducasse.com/uk/box-essentials-large',\n",
       " 'https://www.lechocolat-alainducasse.com/uk/pepites-box-milk-16-pieces',\n",
       " 'https://www.lechocolat-alainducasse.com/uk/mendiant-bar-milk-caramelized-almond',\n",
       " 'https://www.lechocolat-alainducasse.com/uk/chocolate-single-bar-milk',\n",
       " 'https://www.lechocolat-alainducasse.com/uk/chocolate-spread-xl',\n",
       " 'https://www.lechocolat-alainducasse.com/uk/coffret-carres-degustation-50-pieces',\n",
       " 'https://www.lechocolat-alainducasse.com/uk/easter-treat-praline-dark#/77-size-150g',\n",
       " 'https://www.lechocolat-alainducasse.com/uk/sardine-tin',\n",
       " 'https://www.lechocolat-alainducasse.com/uk/praline-ancienne',\n",
       " 'https://www.lechocolat-alainducasse.com/uk/discovery-box-45-pieces',\n",
       " 'https://www.lechocolat-alainducasse.com/uk/box-bars',\n",
       " 'https://www.lechocolat-alainducasse.com/uk/pepites-box-36-pieces',\n",
       " 'https://www.lechocolat-alainducasse.com/uk/discovery-box-58-pieces',\n",
       " 'https://www.lechocolat-alainducasse.com/uk/single-origin-ganache-chocolate',\n",
       " 'https://www.lechocolat-alainducasse.com/uk/flavoured-ganache',\n",
       " 'https://www.lechocolat-alainducasse.com/uk/discovery-box-90-pieces',\n",
       " 'https://www.lechocolat-alainducasse.com/uk/cocoa-pod',\n",
       " 'https://www.lechocolat-alainducasse.com/uk/filled-bar-dark-coconut-praline',\n",
       " 'https://www.lechocolat-alainducasse.com/uk/discovery-box-21-pieces',\n",
       " 'https://www.lechocolat-alainducasse.com/uk/soveria-candied-fruit-ginger#/77-size-150g',\n",
       " 'https://www.lechocolat-alainducasse.com/uk/box-essentials-small',\n",
       " 'https://www.lechocolat-alainducasse.com/uk/box-essentials-large',\n",
       " 'https://www.lechocolat-alainducasse.com/uk/hazelnut-roc-milk#/76-size-100g',\n",
       " 'https://www.lechocolat-alainducasse.com/uk/almond-roc-dark#/76-size-100g',\n",
       " 'https://www.lechocolat-alainducasse.com/uk/hazelnut-dragee-milk#/77-size-150g',\n",
       " 'https://www.lechocolat-alainducasse.com/uk/hazelnut-dragee-dark#/77-size-150g',\n",
       " 'https://www.lechocolat-alainducasse.com/uk/almond-dragee-milk#/77-size-150g',\n",
       " 'https://www.lechocolat-alainducasse.com/uk/almond-dragee-dark#/77-size-150g',\n",
       " 'https://www.lechocolat-alainducasse.com/uk/coffret-carres-degustation-50-pieces',\n",
       " 'https://www.lechocolat-alainducasse.com/uk/square-chocolate-bites-box-30-pieces',\n",
       " 'https://www.lechocolat-alainducasse.com/uk/soveria-candied-fruit-citrus-trio#/77-size-150g',\n",
       " 'https://www.lechocolat-alainducasse.com/uk/soveria-candied-fruit-orange#/77-size-150g',\n",
       " 'https://www.lechocolat-alainducasse.com/uk/croc-#/77-size-150g',\n",
       " 'https://www.lechocolat-alainducasse.com/uk/chocolate-spread-xl',\n",
       " 'https://www.lechocolat-alainducasse.com/uk/chocolate-spread',\n",
       " 'https://www.lechocolat-alainducasse.com/uk/chocolate-single-bar-milk',\n",
       " 'https://www.lechocolat-alainducasse.com/uk/chocolate-single-bar-dark',\n",
       " 'https://www.lechocolat-alainducasse.com/uk/square-chocolate-bites-box-30-pieces',\n",
       " 'https://www.lechocolat-alainducasse.com/uk/coffret-carres-degustation-50-pieces',\n",
       " 'https://www.lechocolat-alainducasse.com/uk/peanut-chocolate-spread',\n",
       " 'https://www.lechocolat-alainducasse.com/uk/hot-chocolate-mix',\n",
       " 'https://www.lechocolat-alainducasse.com/uk/chocobar',\n",
       " 'https://www.lechocolat-alainducasse.com/uk/chocobar-milk',\n",
       " 'https://www.lechocolat-alainducasse.com/uk/chocobar-sesame-dark']"
      ]
     },
     "execution_count": 10,
     "metadata": {},
     "output_type": "execute_result"
    }
   ],
   "source": [
    "product_links"
   ]
  },
  {
   "cell_type": "code",
   "execution_count": 11,
   "id": "65120c45-f2b1-4549-a448-b06e4b28a254",
   "metadata": {},
   "outputs": [],
   "source": [
    "def get_title(soup):\n",
    "    try:\n",
    "        titl = soup.find('h1',attrs={'class': \"productCard__title\"}).get_text().strip().split(\"\\n\")\n",
    "        title=\"\"\n",
    "        for t in titl:\n",
    "            title+=t.strip()+\" - \"\n",
    "        title=title[:-3]\n",
    "    except:\n",
    "        title = \"\"\n",
    "    return title"
   ]
  },
  {
   "cell_type": "code",
   "execution_count": 12,
   "id": "7938b078-17d0-415f-a97d-c86a18af5ebf",
   "metadata": {},
   "outputs": [],
   "source": [
    "def get_subtitle(soup):\n",
    "    try:\n",
    "        subtitle = soup.find('h2',attrs={'class': \"productCard__subtitle\"}).get_text().strip()\n",
    "    except:\n",
    "        subtitle = \"\"\n",
    "    return subtitle"
   ]
  },
  {
   "cell_type": "code",
   "execution_count": 13,
   "id": "5e4b96f0-cc02-4be6-946f-b5a94a671908",
   "metadata": {},
   "outputs": [],
   "source": [
    "def get_weight(soup):\n",
    "    try:\n",
    "        weight = soup.find('p',attrs={'class': \"productCard__weight\"}).get_text().strip()\n",
    "    except:\n",
    "        weight = \"\"\n",
    "    return weight"
   ]
  },
  {
   "cell_type": "code",
   "execution_count": 14,
   "id": "27043013-3f1c-4013-9d3d-662d66aabce1",
   "metadata": {},
   "outputs": [],
   "source": [
    "def get_description(soup):\n",
    "    try:\n",
    "        description = soup.find('div',attrs={'class': \"productDescription__text wysiwyg-content product-description\"}).get_text().strip().replace('\\n','')\n",
    "        description=re.sub(r'[^\\x00-\\x7F]+',' ', description)\n",
    "    except:\n",
    "        description = \"\"\n",
    "    return description"
   ]
  },
  {
   "cell_type": "code",
   "execution_count": 15,
   "id": "ad0a205d-06aa-482d-aa73-8b8fe1138557",
   "metadata": {},
   "outputs": [],
   "source": [
    "def get_consume_advice(soup):\n",
    "    try:\n",
    "        consume_advice = soup.find('p',attrs={'class': \"consumeAdvices\"}).get_text().strip()\n",
    "    except:\n",
    "        consume_advice = \"\"\n",
    "    return consume_advice"
   ]
  },
  {
   "cell_type": "code",
   "execution_count": 16,
   "id": "f7e97da1-9b2d-4870-99bc-704bf6ec52cc",
   "metadata": {},
   "outputs": [],
   "source": [
    "#productActions__addToCart button add-to-cart add\n",
    "def get_price(soup):\n",
    "    try:\n",
    "        price = soup.find('button',attrs={'class': \"productActions__addToCart button add-to-cart add\"}).get_text().strip().split('£')[-1]\n",
    "        price='£'+price\n",
    "    except:\n",
    "        price = \"\"\n",
    "    return price\n"
   ]
  },
  {
   "cell_type": "code",
   "execution_count": 17,
   "id": "d70f4427-031b-4439-924a-58ac5d5a66cb",
   "metadata": {},
   "outputs": [],
   "source": [
    "def get_images(soup):\n",
    "    try:\n",
    "        image = soup.find_all('img', attrs={'class':\"productImages__image\"})\n",
    "        images=[]\n",
    "        for img in image:\n",
    "            images.append(img.get('src'))\n",
    "    except:\n",
    "        images=[]\n",
    "    return images"
   ]
  },
  {
   "cell_type": "code",
   "execution_count": 18,
   "id": "8017eb8e-b220-42f4-9306-dada40bd87d0",
   "metadata": {},
   "outputs": [],
   "source": [
    "def get_product_details(soup):\n",
    "    try:\n",
    "        details = soup.find_all('h3',attrs={'class': \"wysiwyg-title-default\"})\n",
    "        info_pairs={}\n",
    "        for det in details:\n",
    "            info_pairs[det.get_text().lower()]=det.find_next().get_text().strip()\n",
    "    except:\n",
    "        info_pairs = {}\n",
    "    return info_pairs"
   ]
  },
  {
   "cell_type": "code",
   "execution_count": 19,
   "id": "13fa2b9b-cce1-48a1-a157-42b070144750",
   "metadata": {},
   "outputs": [],
   "source": [
    "def get_product_availability(soup):\n",
    "    try:\n",
    "        availability = soup.find('div',attrs={'class': \"productWarning__message\"}).find_next().get_text().strip()\n",
    "    except:\n",
    "        availability = \"\"\n",
    "    if availability==\"\":\n",
    "        availability=\"Available in whole UK\"\n",
    "    return availability"
   ]
  },
  {
   "cell_type": "code",
   "execution_count": 20,
   "id": "689fdc1e-55d0-487b-ae09-6913ac7c48cd",
   "metadata": {},
   "outputs": [],
   "source": [
    "def get_category(soup):\n",
    "    #productInformation__wrapper\n",
    "    try:\n",
    "        category = soup.find('div',attrs={'class': \"productInformation__wrapper\"}).find_all('span')[1].get_text()\n",
    "    except:\n",
    "        category = \"\"\n",
    "    return category"
   ]
  },
  {
   "cell_type": "code",
   "execution_count": 21,
   "id": "b4f3e66f-4923-46c4-ba26-09dcdea1b720",
   "metadata": {},
   "outputs": [],
   "source": [
    "d = {\"product_id\":[],\"title\":[],\"subtitle\":[],\"description\":[],\"category\":[],\"url\":[], \"price\":[],\n",
    "     \"weight\":[],\"images\":[], \"consume_advice\":[], \"ingredients\":[],\"nutritional values\":[],\n",
    "     \"allergens\":[],\"vegan\":[],\"price per kilo\":[],\"product_availability\":[]}"
   ]
  },
  {
   "cell_type": "code",
   "execution_count": 22,
   "id": "c856fb94-20ea-4fb3-9fc8-6ecb3807d26c",
   "metadata": {},
   "outputs": [
    {
     "name": "stdout",
     "output_type": "stream",
     "text": [
      "<Response [200]>\n",
      "<Response [200]>\n",
      "<Response [200]>\n",
      "<Response [200]>\n",
      "<Response [200]>\n",
      "<Response [200]>\n",
      "<Response [200]>\n",
      "<Response [200]>\n",
      "<Response [200]>\n",
      "<Response [200]>\n",
      "<Response [200]>\n",
      "<Response [200]>\n",
      "<Response [200]>\n",
      "<Response [200]>\n",
      "<Response [200]>\n",
      "<Response [200]>\n",
      "<Response [200]>\n",
      "<Response [200]>\n",
      "<Response [200]>\n",
      "<Response [200]>\n",
      "<Response [200]>\n",
      "<Response [200]>\n",
      "<Response [200]>\n",
      "<Response [200]>\n",
      "<Response [200]>\n",
      "<Response [200]>\n",
      "<Response [200]>\n",
      "<Response [200]>\n",
      "<Response [200]>\n",
      "<Response [200]>\n",
      "<Response [200]>\n",
      "<Response [200]>\n",
      "<Response [200]>\n",
      "<Response [200]>\n",
      "<Response [200]>\n",
      "<Response [200]>\n",
      "<Response [200]>\n",
      "<Response [200]>\n",
      "<Response [200]>\n",
      "<Response [200]>\n",
      "<Response [200]>\n",
      "<Response [200]>\n",
      "<Response [200]>\n",
      "<Response [200]>\n",
      "<Response [200]>\n",
      "<Response [200]>\n",
      "<Response [200]>\n",
      "<Response [200]>\n",
      "<Response [200]>\n",
      "<Response [200]>\n",
      "<Response [200]>\n",
      "<Response [200]>\n",
      "<Response [200]>\n",
      "<Response [200]>\n",
      "<Response [200]>\n",
      "<Response [200]>\n",
      "<Response [200]>\n",
      "<Response [200]>\n",
      "<Response [200]>\n",
      "<Response [200]>\n",
      "<Response [200]>\n",
      "<Response [200]>\n",
      "<Response [200]>\n",
      "<Response [200]>\n",
      "<Response [200]>\n",
      "<Response [200]>\n",
      "<Response [200]>\n",
      "<Response [200]>\n",
      "<Response [200]>\n",
      "<Response [200]>\n",
      "<Response [200]>\n",
      "<Response [200]>\n",
      "<Response [200]>\n",
      "<Response [200]>\n",
      "<Response [200]>\n",
      "<Response [200]>\n",
      "<Response [200]>\n",
      "<Response [200]>\n",
      "<Response [200]>\n",
      "<Response [200]>\n",
      "<Response [200]>\n",
      "<Response [200]>\n",
      "<Response [200]>\n",
      "<Response [200]>\n",
      "<Response [200]>\n",
      "<Response [200]>\n",
      "<Response [200]>\n",
      "<Response [200]>\n",
      "<Response [200]>\n",
      "<Response [200]>\n",
      "<Response [200]>\n",
      "<Response [200]>\n",
      "<Response [200]>\n",
      "<Response [200]>\n",
      "<Response [200]>\n",
      "<Response [200]>\n",
      "<Response [200]>\n",
      "<Response [200]>\n",
      "<Response [200]>\n",
      "<Response [200]>\n",
      "<Response [200]>\n",
      "<Response [200]>\n",
      "<Response [200]>\n",
      "<Response [200]>\n",
      "<Response [200]>\n",
      "<Response [200]>\n",
      "<Response [200]>\n",
      "<Response [200]>\n",
      "<Response [200]>\n",
      "<Response [200]>\n",
      "<Response [200]>\n",
      "<Response [200]>\n",
      "<Response [200]>\n",
      "<Response [200]>\n",
      "<Response [200]>\n",
      "<Response [200]>\n",
      "<Response [200]>\n",
      "<Response [200]>\n",
      "<Response [200]>\n",
      "<Response [200]>\n",
      "<Response [200]>\n",
      "<Response [200]>\n",
      "<Response [200]>\n",
      "<Response [200]>\n",
      "<Response [200]>\n",
      "<Response [200]>\n",
      "<Response [200]>\n",
      "<Response [200]>\n",
      "<Response [200]>\n",
      "<Response [200]>\n",
      "<Response [200]>\n",
      "<Response [200]>\n",
      "<Response [200]>\n",
      "<Response [200]>\n",
      "<Response [200]>\n",
      "<Response [200]>\n",
      "<Response [200]>\n",
      "<Response [200]>\n",
      "<Response [200]>\n",
      "<Response [200]>\n",
      "<Response [200]>\n",
      "<Response [200]>\n",
      "<Response [200]>\n",
      "<Response [200]>\n",
      "<Response [200]>\n",
      "<Response [200]>\n",
      "<Response [200]>\n",
      "<Response [200]>\n",
      "<Response [200]>\n",
      "<Response [200]>\n",
      "<Response [200]>\n"
     ]
    }
   ],
   "source": [
    "for link in product_links:\n",
    "    new_webpage=get_webpage(link)\n",
    "    new_soup = BeautifulSoup(new_webpage.content, \"html.parser\")\n",
    "    d['product_id'].append(link.split(\"/\")[-1])\n",
    "    d['title'].append(get_title(new_soup))\n",
    "    d['subtitle'].append(get_subtitle(new_soup))\n",
    "    d['description'].append(get_description(new_soup))\n",
    "    d['category'].append(get_category(new_soup))\n",
    "    d['url'].append(link)\n",
    "    d['price'].append(get_price(new_soup))\n",
    "    d['weight'].append(get_weight(new_soup))\n",
    "    d['images'].append(get_images(new_soup))\n",
    "    d['consume_advice'].append(get_consume_advice(new_soup))\n",
    "    product_details = get_product_details(new_soup)\n",
    "    cols=[\"ingredients\",\"nutritional values\",\"allergens\",\"vegan\",\"price per kilo\"]\n",
    "    for col in cols:\n",
    "        if col in product_details:\n",
    "            d[col].append(product_details[col])\n",
    "        else:\n",
    "            d[col].append(\"\") \n",
    "    d['product_availability'].append(get_product_availability(new_soup))"
   ]
  },
  {
   "cell_type": "code",
   "execution_count": 23,
   "id": "a5189e0e-2f37-4abf-8734-b32782c12a33",
   "metadata": {},
   "outputs": [],
   "source": [
    "lechocolat = pd.DataFrame.from_dict(d)\n",
    "lechocolat = lechocolat.dropna(subset=['title'])\n",
    "lechocolat.to_csv(\"output/lechocolat_data.csv\", header=True, index=False)"
   ]
  },
  {
   "cell_type": "code",
   "execution_count": 24,
   "id": "3b6a5f74-f6b8-4438-837c-68a9031d071b",
   "metadata": {},
   "outputs": [
    {
     "data": {
      "text/plain": [
       "(151, 16)"
      ]
     },
     "execution_count": 24,
     "metadata": {},
     "output_type": "execute_result"
    }
   ],
   "source": [
    "lechocolat.shape"
   ]
  },
  {
   "cell_type": "code",
   "execution_count": null,
   "id": "00c0e7b7-dee7-4836-8c2b-0a1dd65ee2dc",
   "metadata": {},
   "outputs": [],
   "source": []
  },
  {
   "cell_type": "markdown",
   "id": "0d7d46ae-3c59-4878-8838-66da9391b777",
   "metadata": {},
   "source": [
    "## Validating Data"
   ]
  },
  {
   "cell_type": "code",
   "execution_count": 3,
   "id": "6379bedd-641e-41c4-8eb0-02a4a8c86be7",
   "metadata": {},
   "outputs": [],
   "source": [
    "df = pd.read_csv('output/lechocolat_data.csv',converters={'images':pd.eval})"
   ]
  },
  {
   "cell_type": "code",
   "execution_count": 4,
   "id": "e3ef96fa-2ad0-4e27-969f-8d6fd65dc15b",
   "metadata": {},
   "outputs": [],
   "source": [
    "df=df.fillna(\"\")"
   ]
  },
  {
   "cell_type": "code",
   "execution_count": 5,
   "id": "0ea9f337-89ab-4da3-a600-a1e6070b08ed",
   "metadata": {},
   "outputs": [
    {
     "data": {
      "text/plain": [
       "(151, 16)"
      ]
     },
     "execution_count": 5,
     "metadata": {},
     "output_type": "execute_result"
    }
   ],
   "source": [
    "df.shape"
   ]
  },
  {
   "cell_type": "code",
   "execution_count": 6,
   "id": "e482e83c-a9d3-4125-96ba-799318579173",
   "metadata": {},
   "outputs": [],
   "source": [
    "data = df.to_dict(orient='records')"
   ]
  },
  {
   "cell_type": "code",
   "execution_count": 7,
   "id": "62b18ef2-a706-4808-b683-ec008ed12a61",
   "metadata": {},
   "outputs": [
    {
     "data": {
      "text/plain": [
       "151"
      ]
     },
     "execution_count": 7,
     "metadata": {},
     "output_type": "execute_result"
    }
   ],
   "source": [
    "len(data)"
   ]
  },
  {
   "cell_type": "code",
   "execution_count": 8,
   "id": "ffc82fb0-b2ec-4859-82d0-97b07fc2c3ae",
   "metadata": {},
   "outputs": [],
   "source": [
    "validated_data=[]\n",
    "invalid_data=[]"
   ]
  },
  {
   "cell_type": "code",
   "execution_count": 9,
   "id": "07deb673-85c5-47d1-b429-181b5d49daf4",
   "metadata": {},
   "outputs": [],
   "source": [
    "def check(col_name, is_valid, invalid_columns):\n",
    "    if not is_valid:\n",
    "        invalid_columns.append(col_name)\n",
    "    return invalid_columns"
   ]
  },
  {
   "cell_type": "code",
   "execution_count": 10,
   "id": "6e3ed218-c5af-4bac-93c7-f8c6c6fe7950",
   "metadata": {},
   "outputs": [],
   "source": [
    "for row in data:\n",
    "    invalid_columns=[]\n",
    "    is_valid_product_id = ProductValidator.validate_product_id(row['product_id'])\n",
    "    invalid_columns=check('product_id',is_valid_product_id,invalid_columns)\n",
    "    \n",
    "    is_valid_title = ProductValidator.validate_title(row['title'])\n",
    "    invalid_columns=check('title',is_valid_title,invalid_columns)\n",
    "    #print(is_valid_title)\n",
    "\n",
    "    is_valid_subtitle = ProductValidator.validate_subtitle(row['subtitle'])\n",
    "    invalid_columns=check('subtitle',is_valid_subtitle,invalid_columns)\n",
    "    \n",
    "    is_valid_description = ProductValidator.validate_description(row['description'])\n",
    "    invalid_columns=check('description',is_valid_description,invalid_columns)\n",
    "    #print(is_valid_description)\n",
    "    \n",
    "    is_valid_url = ProductValidator.validate_url(row['url'])\n",
    "    invalid_columns=check('url',is_valid_url,invalid_columns)\n",
    "    #print(is_valid_url)\n",
    "    \n",
    "    is_valid_price = ProductValidator.validate_price(row['price'])\n",
    "    invalid_columns=check('price',is_valid_price,invalid_columns)\n",
    "    #print(is_valid_price)\n",
    "\n",
    "    is_valid_weight = ProductValidator.validate_weight(row['weight'])\n",
    "    invalid_columns=check('weight',is_valid_weight,invalid_columns)\n",
    "    #print(is_valid_price)\n",
    "\n",
    "    is_valid_variants_images_urls = ProductValidator.validate_variants_images_urls(row['images'])\n",
    "    invalid_columns=check('images',is_valid_variants_images_urls,invalid_columns)\n",
    "    #print(is_valid_variants_images_urls)\n",
    "    \n",
    "    is_valid_consume_advice = ProductValidator.validate_consume_advice(row['consume_advice'])\n",
    "    invalid_columns=check('consume_advice',is_valid_consume_advice,invalid_columns)\n",
    "    #print(is_valid_image_url)\n",
    "\n",
    "    is_valid_ingredients = ProductValidator.validate_ingredients(row['ingredients'])\n",
    "    invalid_columns=check('ingredients',is_valid_ingredients,invalid_columns)\n",
    "\n",
    "    is_valid_nutritional_values = ProductValidator.validate_nutritional_values(row['nutritional values'])\n",
    "    invalid_columns=check('nutritional values',is_valid_nutritional_values,invalid_columns)\n",
    "\n",
    "    is_valid_vegan = ProductValidator.validate_vegan(row['vegan'])\n",
    "    invalid_columns=check('vegan',is_valid_vegan,invalid_columns)\n",
    "\n",
    "    if len(invalid_columns)>0:\n",
    "        row['invalid_columns']=invalid_columns\n",
    "        invalid_data.append(row)\n",
    "    else:\n",
    "        validated_data.append(row)"
   ]
  },
  {
   "cell_type": "code",
   "execution_count": 11,
   "id": "5c62d345-eceb-44b6-a20c-68476e4df44c",
   "metadata": {},
   "outputs": [],
   "source": [
    "validated_data_df = pd.DataFrame.from_dict(validated_data)"
   ]
  },
  {
   "cell_type": "code",
   "execution_count": 12,
   "id": "bb6c246f-68cd-4018-a568-e9510a0ec964",
   "metadata": {},
   "outputs": [
    {
     "data": {
      "text/plain": [
       "(109, 16)"
      ]
     },
     "execution_count": 12,
     "metadata": {},
     "output_type": "execute_result"
    }
   ],
   "source": [
    "validated_data_df.shape"
   ]
  },
  {
   "cell_type": "code",
   "execution_count": 13,
   "id": "d57be0ee-23f9-47c9-82e3-187ae71679ab",
   "metadata": {},
   "outputs": [],
   "source": [
    "invalid_data_df = pd.DataFrame.from_dict(invalid_data)"
   ]
  },
  {
   "cell_type": "code",
   "execution_count": 14,
   "id": "fa9ac3be-8121-42db-9092-eebf2d0731a7",
   "metadata": {},
   "outputs": [
    {
     "data": {
      "text/plain": [
       "(42, 17)"
      ]
     },
     "execution_count": 14,
     "metadata": {},
     "output_type": "execute_result"
    }
   ],
   "source": [
    "invalid_data_df.shape"
   ]
  },
  {
   "cell_type": "code",
   "execution_count": 15,
   "id": "1f7fc25b-3959-42e4-ba87-c0f83dac7c86",
   "metadata": {},
   "outputs": [],
   "source": [
    "validated_data_df.to_csv(\"output/validated_lechocolat.csv\", header=True, index=False)"
   ]
  },
  {
   "cell_type": "code",
   "execution_count": 16,
   "id": "a5a0020c-2294-49ba-a3c9-b0b0e74b8bbd",
   "metadata": {},
   "outputs": [],
   "source": [
    "invalid_data_df.to_csv(\"output/invalid_lechocolat.csv\", header=True, index=False)"
   ]
  },
  {
   "cell_type": "code",
   "execution_count": null,
   "id": "b465927a-47b4-4aab-9051-b7b49d27c6f0",
   "metadata": {},
   "outputs": [],
   "source": []
  }
 ],
 "metadata": {
  "kernelspec": {
   "display_name": "Python 3 (ipykernel)",
   "language": "python",
   "name": "python3"
  },
  "language_info": {
   "codemirror_mode": {
    "name": "ipython",
    "version": 3
   },
   "file_extension": ".py",
   "mimetype": "text/x-python",
   "name": "python",
   "nbconvert_exporter": "python",
   "pygments_lexer": "ipython3",
   "version": "3.10.0"
  }
 },
 "nbformat": 4,
 "nbformat_minor": 5
}
